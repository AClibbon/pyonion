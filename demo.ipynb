{
 "cells": [
  {
   "cell_type": "markdown",
   "id": "seasonal-queens",
   "metadata": {},
   "source": [
    "# Demo\n",
    "## Quickstart"
   ]
  },
  {
   "cell_type": "code",
   "execution_count": 3,
   "id": "voluntary-replacement",
   "metadata": {},
   "outputs": [
    {
     "data": {
      "text/plain": [
       "{'The_cat_sat_on_the', 'cat_sat_on_the_large'}"
      ]
     },
     "execution_count": 3,
     "metadata": {},
     "output_type": "execute_result"
    }
   ],
   "source": [
    "from pyonion.remover import ListCorpusProvider\n",
    "from pyonion.remover import DuplicateRemover, CleaningMode\n",
    "\n",
    "documents = [\n",
    "    'The cat sat on the large mat',\n",
    "    'The cat sat on the large rug'\n",
    "         ]\n",
    "corpus = ListCorpusProvider(documents)\n",
    "\n",
    "remover = DuplicateRemover(n_gram=5)\n",
    "duplicated_ngrams = remover.find_duplicated_ngrams(corpus)\n",
    "duplicated_ngrams"
   ]
  },
  {
   "cell_type": "code",
   "execution_count": 4,
   "id": "seeing-twenty",
   "metadata": {},
   "outputs": [
    {
     "data": {
      "text/plain": [
       "[('The cat sat on the large mat', 0.0), ('', 0.6666666666666666)]"
      ]
     },
     "execution_count": 4,
     "metadata": {},
     "output_type": "execute_result"
    }
   ],
   "source": [
    "iter_clean_corpus = remover.iter_clean_text(corpus, duplicated_ngrams, threshold=.2, mode=CleaningMode.FIRST)\n",
    "clean_corpus = [clean_doc for clean_doc in iter_clean_corpus]\n",
    "clean_corpus"
   ]
  },
  {
   "cell_type": "markdown",
   "id": "operational-guess",
   "metadata": {},
   "source": [
    "## Using the document provider\n",
    "I've collated some recent Guardian articles into a short list to demonstrate the process in a more realistic scenario.\n",
    "\n",
    "Note that documents 3 and 5 are near duplicates, though a couple of words have been changed. Documents 2 and 4 are also exact duplicates."
   ]
  },
  {
   "cell_type": "code",
   "execution_count": 5,
   "id": "bound-hamburg",
   "metadata": {},
   "outputs": [],
   "source": [
    "from pyonion.remover import FileCorpusProvider, CleaningMode"
   ]
  },
  {
   "cell_type": "code",
   "execution_count": 7,
   "id": "crucial-microphone",
   "metadata": {},
   "outputs": [
    {
     "name": "stdout",
     "output_type": "stream",
     "text": [
      "Document 0\n",
      "*******************\n",
      "Japan’s biggest airline has started offering luxury dining aboard a parked airplane titled the “winged restaurant,” for £390 a meal.\n",
      "\n",
      "Diners rushed to relive the cabin dining experience on Wednesday, despite being unable to travel due to the pandemic.\n",
      "\n",
      "All Nippon Airways (ANA) is offering “passengers” a choice between a first-class seat with a meal for 59,800 yen (£391) and a business-class option for about half the price, at 29,800 yen, on board a stationary Boeing-777 at Haneda airport in Tokyo. They are asked to choose in advance from three menus: Japanese-style, western-style beef or western-style fish, served with wine.\n",
      "\n",
      "The chef speaks with a customer on a parked All Nippon Airways plane at Haneda airport in Tokyo.\n",
      "The chef speaks with a customer on a parked All Nippon Airways plane at Haneda airport in Tokyo. Photograph: All Nippon AIrways (ANA)/AFP/Getty Images\n",
      "Yosuke Kimoto, 42, who had a business-class meal with his 14-year-old son, told Kyodo News: “It was a delicious meal. I’m glad that my kid enjoyed it too.” They were among 56 guests who had lunch aboard on the first day of the service.\n",
      "\n",
      "His son was also impressed. “The business class was drastically different from the economy class in terms of both food and the seat. It was so spacious, and the seat was like a bed when reclined,” he told Nikkei Asia.\n",
      "\n",
      "ANA will offer 22 lunch and dinner sessions this month, each lasting about three hours. There is no in-flight entertainment, but customers receive amenity kits and can also use the airline’s lounge at Haneda’s domestic terminal.\n",
      "\n",
      "\n",
      "Cabin fever: tickets for meal onboard Singapore parked plane sell out\n",
      "Read more\n",
      "Advertisement\n",
      "Singapore Airlines became the first carrier to tap into the public’s appetite for onboard dining last October, when it started offering meals on two A380 superjumbos parked at Changi airport in Singapore. Tickets sold out in less than half an hour, despite the £360 price tag for a business meal, with the chance to watch a movie too. Economy-class meals were more affordable at £30 a head.\n",
      "\n",
      "The pandemic has plunged the global aviation industry into its worst-ever crisis, as many aircraft around the world remain grounded amid coronavirus travel restrictions and lockdowns, prompting some airlines to think creatively about what to do with their idle aircraft. At ANA, the idea of the “winged restaurant” was reportedly thought up by employees.\n",
      "\n",
      "In-flight meals have been surprisingly popular. ANA started selling international economy-class meals online in December and they quickly sold out. It sold 264,000 meals and made revenues of £1.3bn as of 12 March. The airline said beef sukiyaki and hamburger steak with demi-glace sauce served with buttered rice and creamy scrambled eggs were gone within minutes.\n",
      "\n",
      "Document 1\n",
      "*******************\n",
      "Prosecutors in Thailand have indicted five pro-democracy activists on charges of attempting to harm the queen during a street demonstration in October last year, in which some protesters shouted slogans critical of the monarchy.\n",
      "\n",
      "Queen Suthida, the wife of King Maha Vajiralongkorn, was not in any evident danger in the incident, which occurred when a limousine carrying the queen and the king’s son, Prince Dipangkorn Rasmijoti, passed through a small crowd of protesters mixed with supporters of the royal family.\n",
      "\n",
      "The five are accused of violating section 110 of the criminal code, which says that whoever attempts an act of violence against the queen or the royal heir faces 16-20 years’ imprisonment. They include Ekachai Hongkangwan, a veteran activist and social critic who has been attacked several times by unknown assailants.\n",
      "\n",
      "All five deny any wrongdoing. After their indictment, they were released on bail of 200,000-300,000 baht ($6,400-$9,600) each.\n",
      "\n",
      "It is highly unusual for the royal family’s vehicles to be driven near protests. During the 14 October incident, police linked arms on either side of the queen’s car as it passed, keeping onlookers away. Some protesters shouted slogans critical of the monarchy, while monarchists countered with cries in support of the royal institution.\n",
      "\n",
      "\n",
      "Thailand government files lese-majesty suit against banned opposition leader\n",
      "Read more\n",
      "The encounter took place on a day that more than 10,000 people later staged a rally near the same site, outside the offices of Prime Minister Prayuth Chan-ocha, to demand that he and his cabinet resign.\n",
      "\n",
      "Police broke up the rally late that night, and the next day declared a state of emergency for Bangkok which included a ban on unauthorised gatherings of more than five people. The ban was ignored and the state of emergency was rescinded shortly afterward.\n",
      "\n",
      "Thailand has harsh laws guarding the reputation as well as the safety of the royal family. A law prohibiting defamation of the monarch or his immediate family carries a prison term of up to 15 years for each count.\n",
      "\n",
      "The pro-democracy movement includes reform of the monarchy as one of its core demands. As protest leaders have increased their criticisms of the royal institution, the authorities have reacted by charging them with defaming the monarchy.\n",
      "\n",
      "The legal aid group Thai Lawyers for Human Rights says at least 81 activists have been charged under the law since last November.\n",
      "\n",
      "Document 2\n",
      "*******************\n",
      "A child was among four people killed Wednesday in a shooting at a southern California office building that left a fifth victim and the gunman critically wounded, police said.\n",
      "\n",
      "The violence in the city of Orange south-east of Los Angeles was the nation’s third mass shooting in just over two weeks.\n",
      "\n",
      "When police arrived at the two-story structure around 5.30pm shots were being fired, Orange police lieutenant Jennifer Amat said. Officers opened fire and the suspect was taken to a hospital, Amat said.\n",
      "\n",
      "It’s unclear if the suspect suffered a self-inflicted wound or was shot by police. Police provided no details on the victims other than to say one was a child and a woman was critically wounded.\n",
      "\n",
      "Advertisement\n",
      "In a tweet, California governor Gavin Newsom called the killings “horrifying and heartbreaking”.\n",
      "\n",
      "“Our hearts are with the families impacted by this terrible tragedy tonight,” he wrote.\n",
      "\n",
      "Congresswoman Katie Porter, a California Democrat whose district includes the city of Orange, said on Twitter that she was “deeply saddened”.\n",
      "\n",
      "Document 3\n",
      "*******************\n",
      "A butchered Aesop’s Fable from the Twitter account of China’s embassy in Ireland has drawn mirth from observers and highlighted the growing sensitivity of Chinese diplomats to international criticism.\n",
      "\n",
      "As China engages in international disputes ranging from fist fights with Taiwanese officials to trade sanctions to threats of conflict, the behaviour of its foreign officials has earned the nickname “wolf warrior diplomacy” – a belligerent and aggressive style of communication that is most fervently conducted online.\n",
      "\n",
      "Thursday’s tweet pushed back on such accusations but appeared to lose something in translation as the author navigated English allegories and the need to maintain an image of Chinese strength.\n",
      "\n",
      "Advertisement\n",
      "Riffing on the fable of the Wolf and the Lamb, a story of tyrannical injustice in which the lamb is falsely accused and killed, Thursday’s post queried: “Who is the wolf?”\n",
      "\n",
      "It continued: “Some people accused China for so-called ‘wolf-warrior diplomacy’. In his well-known fable, Aesop described how the Wolf accused the Lamb of committing offences. The wolf is the wolf, not the lamb … BTW, China is not a lamb.”\n",
      "\n",
      "Document 4\n",
      "*******************\n",
      "A child was among four people killed Wednesday in a shooting at a southern California office building that left a fifth victim and the gunman critically wounded, police said.\n",
      "\n",
      "The violence in the city of Orange south-east of Los Angeles was the nation’s third mass shooting in just over two weeks.\n",
      "\n",
      "When police arrived at the two-story structure around 5.30pm shots were being fired, Orange police lieutenant Jennifer Amat said. Officers opened fire and the suspect was taken to a hospital, Amat said.\n",
      "\n",
      "It’s unclear if the suspect suffered a self-inflicted wound or was shot by police. Police provided no details on the victims other than to say one was a child and a woman was critically wounded.\n",
      "\n",
      "Advertisement\n",
      "In a tweet, California governor Gavin Newsom called the killings “horrifying and heartbreaking”.\n",
      "\n",
      "“Our hearts are with the families impacted by this terrible tragedy tonight,” he wrote.\n",
      "\n",
      "Congresswoman Katie Porter, a California Democrat whose district includes the city of Orange, said on Twitter that she was “deeply saddened”.\n",
      "\n",
      "Document 5\n",
      "*******************\n",
      "A butchered Aesop’s Fable from the Twitter account of China’s embassy in Ireland has drawn mirth from observers and highlighted the growing sensitivity of Chinese diplomats to international criticism.\n",
      "\n",
      "As China engages in international disputes ranging from fist fights with Taiwanese officials to trade sanctions to threats of conflict, the behaviour of its foreign officials has earned the nickname “wolf warrior diplomacy” – a belligerent and aggressive style of communication that is most fervently conducted online.\n",
      "\n",
      "Thursday’s tweet pushed back on such accusations but appeared to lose something in translation as the author navigated English allegories and the need to maintain an image of Chinese strength.\n",
      "\n",
      "Advertisement\n",
      "Riffing on the fable of the Wolf and the Lamb, a story of tyrannical injustice in which the lamb is falsely accused and killed, Thursday’s post queried: “Who is the wolf?”\n",
      "\n",
      "It continued: “Some people accused China for so-called ‘wolf-warrior diplomacy’. In his well-known fable, Aesop described how the Wolf accused the Lamb of committing offences. The wolf is the wolf, not the lamb … BTW, China is not a goat.”\n",
      "\n"
     ]
    }
   ],
   "source": [
    "corpus = FileCorpusProvider('pyonion/data/demo_data.txt')\n",
    "for i, doc in enumerate(corpus.iter_docs()):\n",
    "    print(f\"Document {i}\\n*******************\")\n",
    "    print(doc, end='\\n\\n')"
   ]
  },
  {
   "cell_type": "markdown",
   "id": "described-model",
   "metadata": {},
   "source": [
    "Lets find the duplicated 10-grams, and have a look at some of them"
   ]
  },
  {
   "cell_type": "code",
   "execution_count": 8,
   "id": "pacific-bloom",
   "metadata": {},
   "outputs": [
    {
     "data": {
      "text/plain": [
       "['to_international_criticism_As_China_engages_in_international_disputes_ranging',\n",
       " 'diplomats_to_international_criticism_As_China_engages_in_international_disputes',\n",
       " 'injustice_in_which_the_lamb_is_falsely_accused_and_killed',\n",
       " 'Aesop_s_Fable_from_the_Twitter_account_of_China_s',\n",
       " 'over_two_weeks_When_police_arrived_at_the_two_story',\n",
       " 'fervently_conducted_online_Thursday_s_tweet_pushed_back_on_such',\n",
       " 'at_the_two_story_structure_around_5_30pm_shots_were',\n",
       " 'belligerent_and_aggressive_style_of_communication_that_is_most_fervently',\n",
       " 'and_the_gunman_critically_wounded_police_said_The_violence_in',\n",
       " '30pm_shots_were_being_fired_Orange_police_lieutenant_Jennifer_Amat']"
      ]
     },
     "execution_count": 8,
     "metadata": {},
     "output_type": "execute_result"
    }
   ],
   "source": [
    "remover = DuplicateRemover(n_gram=10)\n",
    "duplicated = remover.find_duplicated_ngrams(corpus)\n",
    "list(duplicated)[:10]"
   ]
  },
  {
   "cell_type": "markdown",
   "id": "nominated-batman",
   "metadata": {},
   "source": [
    "Lets now use our duplicate remover to strip the set down to only high quality documents."
   ]
  },
  {
   "cell_type": "code",
   "execution_count": 9,
   "id": "mathematical-thesis",
   "metadata": {},
   "outputs": [],
   "source": [
    "clean_docs = [doc for doc in remover.iter_clean_text(corpus,\n",
    "                                           duplicated_ngrams=duplicated,\n",
    "                                           threshold=.9, mode=CleaningMode.FIRST)]"
   ]
  },
  {
   "cell_type": "markdown",
   "id": "changed-yacht",
   "metadata": {},
   "source": [
    "If we look at document 5 we see it has been removed as it had a very high resemblance."
   ]
  },
  {
   "cell_type": "code",
   "execution_count": 10,
   "id": "premium-popularity",
   "metadata": {},
   "outputs": [
    {
     "data": {
      "text/plain": [
       "('', 0.9942528735632183)"
      ]
     },
     "execution_count": 10,
     "metadata": {},
     "output_type": "execute_result"
    }
   ],
   "source": [
    "clean_docs[5]"
   ]
  },
  {
   "cell_type": "markdown",
   "id": "worthy-kuwait",
   "metadata": {},
   "source": [
    "Document 3 has not been touched, and has a resemblance of 0. This is because the cleaning mode was set to 'FIRST', meaning the first occurance isn't treated as a duplicate."
   ]
  },
  {
   "cell_type": "code",
   "execution_count": 11,
   "id": "functioning-throw",
   "metadata": {},
   "outputs": [
    {
     "data": {
      "text/plain": [
       "('A butchered Aesop s Fable from the Twitter account of China s embassy in Ireland has drawn mirth from observers and highlighted the growing sensitivity of Chinese diplomats to international criticism As China engages in international disputes ranging from fist fights with Taiwanese officials to trade sanctions to threats of conflict the behaviour of its foreign officials has earned the nickname wolf warrior diplomacy a belligerent and aggressive style of communication that is most fervently conducted online Thursday s tweet pushed back on such accusations but appeared to lose something in translation as the author navigated English allegories and the need to maintain an image of Chinese strength Advertisement Riffing on the fable of the Wolf and the Lamb a story of tyrannical injustice in which the lamb is falsely accused and killed Thursday s post queried Who is the wolf It continued Some people accused China for so called wolf warrior diplomacy In his well known fable Aesop described how the Wolf accused the Lamb of committing offences The wolf is the wolf not the lamb BTW China is not a lamb',\n",
       " 0.0)"
      ]
     },
     "execution_count": 11,
     "metadata": {},
     "output_type": "execute_result"
    }
   ],
   "source": [
    "clean_docs[3]"
   ]
  }
 ],
 "metadata": {
  "kernelspec": {
   "display_name": "Python [conda env:pyonion]",
   "language": "python",
   "name": "conda-env-pyonion-py"
  },
  "language_info": {
   "codemirror_mode": {
    "name": "ipython",
    "version": 3
   },
   "file_extension": ".py",
   "mimetype": "text/x-python",
   "name": "python",
   "nbconvert_exporter": "python",
   "pygments_lexer": "ipython3",
   "version": "3.7.10"
  }
 },
 "nbformat": 4,
 "nbformat_minor": 5
}
